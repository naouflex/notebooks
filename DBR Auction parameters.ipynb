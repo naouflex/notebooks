{
 "cells": [
  {
   "cell_type": "code",
   "execution_count": null,
   "id": "36c3a271-133f-4722-93b9-048a60c6f661",
   "metadata": {},
   "outputs": [],
   "source": [
    "!pip install pandas matplotlib ipympl"
   ]
  },
  {
   "cell_type": "code",
   "execution_count": null,
   "id": "78f25dae",
   "metadata": {},
   "outputs": [],
   "source": [
    "%matplotlib widget"
   ]
  },
  {
   "cell_type": "code",
   "execution_count": null,
   "id": "78a641b5-e21d-4f76-b77a-4a3d2c9fa9ef",
   "metadata": {},
   "outputs": [],
   "source": [
    "import pandas as pd\n",
    "import matplotlib.pyplot as plt\n",
    "from mpl_toolkits.mplot3d import Axes3D\n",
    "\n",
    "\n",
    "# Parameters \n",
    "n_values = 10\n",
    "\n",
    "dbr_reserve_param = [1000000 * (1.5 ** i) for i in range(n_values) if 1000000 * (1.5 ** i) < 5000000] #(start = 1M, end = 5M, step = *1.5)\n",
    "dola_reserve_param = [100000 * (1.5 ** i) for i in range(n_values) if 100000 * (1.5 ** i) < 1000000] # (start = 100K, end = 1M, step = *1.5)\n",
    "dbr_rate_per_year_param = [1000000 * (1.5 ** i) for i in range(n_values) if 1000000 * (1.5 ** i) < 5000000] # (start = 1M, end = 5M, step = *1.5)\n",
    "dola_in_param = [1000 * (1.5 ** i) for i in range(n_values) if 1000 * (1.5 ** i) < 20000]\n",
    "\n",
    "\n",
    "total_days_param = 7\n",
    "\n",
    "time_elapsed_range = [60 * 60 * 24 * days for days in range(1, total_days_param+1)]  # 1 to 7 days in seconds\n",
    "\n",
    "# DataFrame to store results\n",
    "results = []\n",
    "\n",
    "# Looping through each combination of parameters\n",
    "for dbr_reserve_param in (dbr_reserve_param):\n",
    "    for dola_reserve in (dola_reserve_param):\n",
    "        for dbr_rate_per_year in (dbr_rate_per_year_param):\n",
    "            for time_elapsed in time_elapsed_range:\n",
    "                k = dbr_reserve_param * dola_reserve\n",
    "\n",
    "                dbr_rate_per_second = dbr_rate_per_year / 365 / 24 / 60 / 60\n",
    "\n",
    "                dbrs_in = time_elapsed * dbr_rate_per_second\n",
    "                dbr_reserve = dbr_reserve_param + dbrs_in\n",
    "                dola_reserve = k / dbr_reserve\n",
    "\n",
    "                for exact_dola_in in dola_in_param:\n",
    "                    dbr_out = (exact_dola_in * dbr_reserve) / (dola_reserve + exact_dola_in)\n",
    "                    \n",
    "                    # Storing results\n",
    "                    results.append({\n",
    "                        \"dbr_reserve\": float(dbr_reserve),\n",
    "                        \"dola_reserve\": float(dola_reserve),\n",
    "                        \"dbr_rate_per_year\": float(dbr_rate_per_year),\n",
    "                        \"dbrs_in\": float(dbrs_in),\n",
    "                        \"time_elapsed_days\": time_elapsed / (60 * 60 * 24),  # Convert seconds back to days for readability\n",
    "                        \"dbr_out\": float(dbr_out),\n",
    "                        \"dola_in\": float(exact_dola_in),\n",
    "                        \"dbr_price\": float(exact_dola_in / dbr_out)\n",
    "                    })\n",
    "# Creating DataFrame\n",
    "df = pd.DataFrame(results)"
   ]
  },
  {
   "cell_type": "code",
   "execution_count": null,
   "id": "d14352dd",
   "metadata": {},
   "outputs": [],
   "source": []
  },
  {
   "cell_type": "code",
   "execution_count": null,
   "id": "91d5de8f-02e2-4f2f-8693-3a030bd567db",
   "metadata": {},
   "outputs": [],
   "source": [
    "\n",
    "# Chart 1: DBR Reserve, DOLA Reserve, and DBR Price over Time\n",
    "fig1 = plt.figure(figsize=(8, 6))\n",
    "ax1 = fig1.add_subplot(111, projection='3d')\n",
    "scatter1 = ax1.scatter(df['time_elapsed_days'], df['dbr_reserve'], df['dbr_price'], c=df['dola_reserve'], cmap='viridis')\n",
    "ax1.set_xlabel('Time Elapsed (Days)')\n",
    "ax1.set_ylabel('DBR Reserve')\n",
    "ax1.set_zlabel('DBR Price')\n",
    "plt.colorbar(scatter1, ax=ax1, label='DOLA Reserve')\n",
    "plt.title('DBR Reserve, DOLA Reserve, and DBR Price over Time')\n",
    "plt.show()"
   ]
  },
  {
   "cell_type": "code",
   "execution_count": null,
   "id": "d6181e5c-868a-49b4-aa0d-914c3ab14be3",
   "metadata": {},
   "outputs": [],
   "source": [
    "# Chart 2: DBR Rate per Year, DOLA In, and DBR Price over Time\n",
    "fig2 = plt.figure(figsize=(8, 6))\n",
    "ax2 = fig2.add_subplot(111, projection='3d')\n",
    "scatter2 = ax2.scatter(df['time_elapsed_days'], df['dbr_rate_per_year'], df['dbr_price'], c=df['dola_in'], cmap='plasma')\n",
    "ax2.set_xlabel('Time Elapsed (Days)')\n",
    "ax2.set_ylabel('DBR Rate per Year')\n",
    "ax2.set_zlabel('DBR Price')\n",
    "plt.colorbar(scatter2, ax=ax2, label='DOLA In')\n",
    "plt.title('DBR Rate per Year, DOLA In, and DBR Price over Time')\n",
    "plt.show()"
   ]
  },
  {
   "cell_type": "code",
   "execution_count": null,
   "id": "c6fd74d4-31fe-41a6-9138-d99cc5b60f38",
   "metadata": {},
   "outputs": [],
   "source": [
    "# Chart 3: DBR Reserve, DBR Rate per Year, and DBR Price over Time\n",
    "fig3 = plt.figure(figsize=(8, 6))\n",
    "ax3 = fig3.add_subplot(111, projection='3d')\n",
    "scatter3 = ax3.scatter(df['time_elapsed_days'], df['dbr_reserve'], df['dbr_price'], c=df['dbr_rate_per_year'], cmap='cool')\n",
    "ax3.set_xlabel('Time Elapsed (Days)')\n",
    "ax3.set_ylabel('DBR Reserve')\n",
    "ax3.set_zlabel('DBR Price')\n",
    "plt.colorbar(scatter3, ax=ax3, label='DBR Rate per Year')\n",
    "plt.title('DBR Reserve, DBR Rate per Year, and DBR Price over Time')\n",
    "plt.show()"
   ]
  },
  {
   "cell_type": "code",
   "execution_count": null,
   "id": "f42adcca-cd7e-463b-8294-21347a6088a4",
   "metadata": {},
   "outputs": [],
   "source": [
    "# Chart 4: DOLA Reserve, DOLA In, and DBR Price over Time\n",
    "fig4 = plt.figure(figsize=(8, 6))\n",
    "ax4 = fig4.add_subplot(111, projection='3d')\n",
    "scatter4 = ax4.scatter(df['time_elapsed_days'], df['dola_reserve'], df['dbr_price'], c=df['dola_in'], cmap='inferno')\n",
    "ax4.set_xlabel('Time Elapsed (Days)')\n",
    "ax4.set_ylabel('DOLA Reserve')\n",
    "ax4.set_zlabel('DBR Price')\n",
    "plt.colorbar(scatter4, ax=ax4, label='DOLA In')\n",
    "plt.title('DOLA Reserve, DOLA In, and DBR Price over Time')\n",
    "plt.show()"
   ]
  },
  {
   "cell_type": "code",
   "execution_count": null,
   "id": "2aeb44c7-b602-4707-b86a-99d2d8cdc9cf",
   "metadata": {},
   "outputs": [],
   "source": [
    "# Chart 5: DBR Reserve, DOLA In, and DBR Price over Time\n",
    "fig5 = plt.figure(figsize=(8, 6))\n",
    "ax5 = fig5.add_subplot(111, projection='3d')\n",
    "scatter5 = ax5.scatter(df['time_elapsed_days'], df['dbr_reserve'], df['dbr_price'], c=df['dola_in'], cmap='magma')\n",
    "ax5.set_xlabel('Time Elapsed (Days)')\n",
    "ax5.set_ylabel('DBR Reserve')\n",
    "ax5.set_zlabel('DBR Price')\n",
    "plt.colorbar(scatter5, ax=ax5, label='DOLA In')\n",
    "plt.title('DBR Reserve, DOLA In, and DBR Price over Time')\n",
    "plt.show()"
   ]
  },
  {
   "cell_type": "code",
   "execution_count": null,
   "id": "1ed1b43e-19ec-4a99-bbc3-edfbdda364f7",
   "metadata": {},
   "outputs": [],
   "source": [
    "# Chart 6: DOLA In vs. DBR Reserve and DOLA Reserve\n",
    "fig6 = plt.figure(figsize=(8, 6))\n",
    "ax6 = fig6.add_subplot(111, projection='3d')\n",
    "scatter6 = ax6.scatter(df['dbr_reserve'], df['dola_reserve'], df['dola_in'], c=df['time_elapsed_days'], cmap='autumn')\n",
    "ax6.set_xlabel('DBR Reserve')\n",
    "ax6.set_ylabel('DOLA Reserve')\n",
    "ax6.set_zlabel('DOLA In')\n",
    "plt.colorbar(scatter6, ax=ax6, label='Time Elapsed (Days)')\n",
    "plt.title('DOLA In vs. DBR Reserve and DOLA Reserve')\n",
    "plt.show()"
   ]
  },
  {
   "cell_type": "code",
   "execution_count": null,
   "id": "2d23ca25-db59-4ed5-bbaf-1969699ab6b6",
   "metadata": {},
   "outputs": [],
   "source": [
    "# Chart 7: DBR Price vs. Time Elapsed and DOLA In\n",
    "fig7 = plt.figure(figsize=(8, 6))\n",
    "ax7 = fig7.add_subplot(111, projection='3d')\n",
    "scatter7 = ax7.scatter(df['time_elapsed_days'], df['dola_in'], df['dbr_price'], c=df['dbr_reserve'], cmap='winter')\n",
    "ax7.set_xlabel('Time Elapsed (Days)')\n",
    "ax7.set_ylabel('DOLA In')\n",
    "ax7.set_zlabel('DBR Price')\n",
    "plt.colorbar(scatter7, ax=ax7, label='DBR Reserve')\n",
    "plt.title('DBR Price vs. Time Elapsed and DOLA In')\n",
    "plt.show()"
   ]
  },
  {
   "cell_type": "code",
   "execution_count": null,
   "id": "caa35c8f-da54-40d3-9a84-0bd8bb6bc336",
   "metadata": {},
   "outputs": [],
   "source": [
    "# Chart 8: DBR Reserve vs. DOLA Reserve and Time Elapsed\n",
    "fig8 = plt.figure(figsize=(8, 6))\n",
    "ax8 = fig8.add_subplot(111, projection='3d')\n",
    "scatter8 = ax8.scatter(df['dbr_reserve'], df['dola_reserve'], df['time_elapsed_days'], c=df['dbr_out'], cmap='cool')\n",
    "ax8.set_xlabel('DBR Reserve')\n",
    "ax8.set_ylabel('DOLA Reserve')\n",
    "ax8.set_zlabel('Time Elapsed (Days)')\n",
    "plt.colorbar(scatter8, ax=ax8, label='DBR Out')\n",
    "plt.title('DBR Reserve vs. DOLA Reserve and Time Elapsed')\n",
    "plt.show()"
   ]
  }
 ],
 "metadata": {
  "kernelspec": {
   "display_name": "Python 3 (ipykernel)",
   "language": "python",
   "name": "python3"
  },
  "language_info": {
   "codemirror_mode": {
    "name": "ipython",
    "version": 3
   },
   "file_extension": ".py",
   "mimetype": "text/x-python",
   "name": "python",
   "nbconvert_exporter": "python",
   "pygments_lexer": "ipython3",
   "version": "3.12.0"
  }
 },
 "nbformat": 4,
 "nbformat_minor": 5
}
